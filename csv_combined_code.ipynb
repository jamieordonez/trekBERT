{
 "cells": [
  {
   "cell_type": "code",
   "execution_count": 8,
   "id": "09dbc771-97c6-4603-954d-94b80bb10104",
   "metadata": {},
   "outputs": [
    {
     "name": "stdout",
     "output_type": "stream",
     "text": [
      "Combining file: cleaned_Star_Trek_Final_Frontier_Script.csv\n",
      "Combining file: cleaned_Star_Trek_First_Contact_Script.csv\n",
      "Combining file: cleaned_Star_Trek_Generations_Script.csv\n",
      "Combining file: cleaned_Star_Trek_Insurrection_Script.csv\n",
      "Combining file: cleaned_Star_Trek_Nemesis_Script.csv\n",
      "Combining file: cleaned_Star_Trek_Script.csv\n",
      "Combining file: cleaned_Star_Trek_Search_for_Spock_Script.csv\n",
      "Combining file: cleaned_Star_Trek_Undiscovered_Country_Script.csv\n",
      "Combining file: cleaned_Star_Trek_Voyage_Home_Script.csv\n",
      "Combining file: cleaned_Star_Trek_Wrath_of_Khan_Script.csv\n",
      "Combined CSV saved as: /home/sagemaker-user/trekBERT/Movies_cleaned_csv/combined_cleaned_scripts.csv\n"
     ]
    }
   ],
   "source": [
    "def combine_cleaned_csvs(folder_path, output_file='combined_cleaned_scripts.csv'):\n",
    "    \"\"\"\n",
    "    Combines all cleaned CSV files in a folder into one DataFrame and saves it.\n",
    "    \n",
    "    Parameters:\n",
    "    - folder_path (str): Path to the folder containing cleaned CSV files.\n",
    "    - output_file (str): Name of the output combined CSV file.\n",
    "    \"\"\"\n",
    "    combined_df = pd.DataFrame()\n",
    "\n",
    "    # Loop through all cleaned CSV files\n",
    "    for filename in os.listdir(folder_path):\n",
    "        if filename.startswith('cleaned_') and filename.endswith('.csv'):\n",
    "            file_path = os.path.join(folder_path, filename)\n",
    "            print(f\"Combining file: {filename}\")\n",
    "            df = pd.read_csv(file_path)\n",
    "            combined_df = pd.concat([combined_df, df], ignore_index=True)\n",
    "\n",
    "    # Save the combined DataFrame\n",
    "    combined_file_path = os.path.join(folder_path, output_file)\n",
    "    combined_df.to_csv(combined_file_path, index=False)\n",
    "    print(f\"Combined CSV saved as: {combined_file_path}\")\n",
    "\n",
    "    return combined_df\n",
    "\n",
    "# Example usage:\n",
    "combined_df = combine_cleaned_csvs('/home/sagemaker-user/trekBERT/Movies_cleaned_csv')\n",
    "\n"
   ]
  },
  {
   "cell_type": "code",
   "execution_count": null,
   "id": "6c610cda-4219-4343-bfae-6ee1f1dd2f71",
   "metadata": {},
   "outputs": [],
   "source": []
  }
 ],
 "metadata": {
  "kernelspec": {
   "display_name": "Python 3 (ipykernel)",
   "language": "python",
   "name": "python3"
  },
  "language_info": {
   "codemirror_mode": {
    "name": "ipython",
    "version": 3
   },
   "file_extension": ".py",
   "mimetype": "text/x-python",
   "name": "python",
   "nbconvert_exporter": "python",
   "pygments_lexer": "ipython3",
   "version": "3.11.11"
  }
 },
 "nbformat": 4,
 "nbformat_minor": 5
}
