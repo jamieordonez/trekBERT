{
 "cells": [
  {
   "cell_type": "markdown",
   "id": "1a487d5b-8b01-4b03-ad78-72f11681bf5f",
   "metadata": {},
   "source": [
    "# Project 1: Masked Language Modeling\n",
    "\n",
    "## Total Points: 25\n",
    "\n",
    "### Overview\n",
    "In this project, you will fine-tune a **Masked Language Model (MLM)** on a domain-specific dataset of your choice. The goal is to understand the process of preparing data, fine-tuning an MLM, evaluating its performance, and iterating on the results. You will measure the model’s performance before and after fine-tuning using **Perplexity** or another suitable metric.\n"
   ]
  },
  {
   "cell_type": "markdown",
   "id": "b57c856b-d89f-4f62-8cc3-357bfc2e1a8c",
   "metadata": {},
   "source": [
    "### 1. Identify Your Domain-Specific Dataset\n",
    "- Choose a dataset related to a particular domain (e.g., legal, medical, finance, science, etc.).\n",
    "- Ensure that the dataset contains enough textual data to be useful for training an MLM but not so much that you can't process it (may need to be some trial and error).\n"
   ]
  },
  {
   "cell_type": "markdown",
   "id": "71351d2c-1406-48a8-af98-417d47a45944",
   "metadata": {},
   "source": [
    "### 2. Process Your Data\n",
    "- Clean and preprocess the dataset to be suitable for an MLM.\n",
    "- Convert the dataset into a format compatible with your training pipeline. \n",
    "- Consider preprocessing your data to improve training quality.\n",
    "\n"
   ]
  },
  {
   "cell_type": "markdown",
   "id": "2cec2026-c5d0-4bb1-871f-1e527df561da",
   "metadata": {},
   "source": [
    "### 3. Baseline Measurement\n",
    "- Before fine-tuning, measure the performance of a **pretrained MLM** (e.g., `distilBERT`) on your dataset.\n",
    "- Use a **masking strategy** where you randomly mask certain tokens and measure how well the model predicts them (recommended 15%).\n",
    "- Compute **Perplexity** or another chosen evaluation metric as a baseline.\n"
   ]
  },
  {
   "cell_type": "markdown",
   "id": "ca68bf68-c8dc-49e7-9adc-63b6c28204df",
   "metadata": {},
   "source": [
    "### 4. Fine-Tune a Masked Language Model\n",
    "- Fine-tune a small MLM model (recommended: `distilBERT` or smaller) on your domain-specific dataset.\n",
    "- Implement a training pipeline.\n",
    "- Save the fine-tuned model for later evaluation.\n",
    "\n"
   ]
  },
  {
   "cell_type": "markdown",
   "id": "79d6bcc8-39a5-4101-b30f-dd6b7c73b3d0",
   "metadata": {},
   "source": [
    "### 5. Remeasure the Fine-Tuned Model\n",
    "- Evaluate the performance of the fine-tuned model on the masked dataset.\n",
    "- Compute **Perplexity** (or the chosen metric) again.\n",
    "- Compare the results with the baseline measurement.\n",
    "\n"
   ]
  },
  {
   "cell_type": "markdown",
   "id": "c9811c87-e5ba-4f03-9932-efff0efc838e",
   "metadata": {},
   "source": [
    "### 6. Iterate if Needed\n",
    "- If the results are not as good as you want, consider adjusting:\n",
    "  - Training epochs\n",
    "  - Learning rate\n",
    "  - Batch size\n",
    "  - Data preprocessing steps\n",
    "\n"
   ]
  },
  {
   "cell_type": "markdown",
   "id": "f3a375a5-a554-4bad-88bc-0fce4c0ef74c",
   "metadata": {},
   "source": [
    "### 7. Organize & Summarize Results\n",
    "- Present your results in a structured format.\n",
    "- Compare the performance of the pre-trained and fine-tuned models.\n",
    "- Discuss key takeaways from the fine-tuning process.\n"
   ]
  },
  {
   "cell_type": "markdown",
   "id": "12eadf69-2cda-4b25-a5e6-c134601bf012",
   "metadata": {},
   "source": [
    "## Hints & Tips\n",
    "- **Use Generative Models**: Make use of tools like chatgpt, claude to help you brainstorm, etc.\n",
    "- **Focus on Learning**: The goal is to understand MLM fine-tuning rather than achieving the best possible score. So focus on the process and not results\n",
    "- **Experiment & Analyze**: Try different settings and analyze their impact."
   ]
  }
 ],
 "metadata": {
  "kernelspec": {
   "display_name": "Python 3 (ipykernel)",
   "language": "python",
   "name": "python3"
  },
  "language_info": {
   "codemirror_mode": {
    "name": "ipython",
    "version": 3
   },
   "file_extension": ".py",
   "mimetype": "text/x-python",
   "name": "python",
   "nbconvert_exporter": "python",
   "pygments_lexer": "ipython3",
   "version": "3.11.6"
  }
 },
 "nbformat": 4,
 "nbformat_minor": 5
}
