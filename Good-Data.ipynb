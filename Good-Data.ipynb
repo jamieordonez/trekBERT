{
 "cells": [
  {
   "cell_type": "code",
   "execution_count": 1,
   "id": "2c7d955b-2244-48ca-bca0-54907e635995",
   "metadata": {},
   "outputs": [],
   "source": [
    "import json\n",
    "import re"
   ]
  },
  {
   "cell_type": "markdown",
   "id": "6c7f2df1-593c-4abc-b7c0-4d9e0e038498",
   "metadata": {},
   "source": [
    "### What is good data? "
   ]
  },
  {
   "cell_type": "markdown",
   "id": "454eebc0-c544-43bf-ad74-ff44bf631525",
   "metadata": {},
   "source": [
    "* **Domain-Specific Jargon** – \"benchmark federal funds rate,\" \"monetary policy,\" \"yield on 10-year Treasury bonds\"\n",
    "* **Contextually Rich** – Explains the relationship between interest rates, bonds, and equity markets\n",
    "* **Realistic Scenario** – Discusses Federal Reserve actions and investor sentiment, etc"
   ]
  },
  {
   "cell_type": "code",
   "execution_count": 2,
   "id": "7e7b4de1-22d6-4141-9659-58afb90f8804",
   "metadata": {},
   "outputs": [],
   "source": [
    "example1 = '''\n",
    "The Federal Reserve's decision to raise the benchmark federal funds rate by 25 basis points to 5.25% \n",
    "signals a tightening monetary policy aimed at curbing inflationary pressures.The yield on 10-year \n",
    "Treasury bonds climbed to 4.1%, reflecting investor expectations of prolonged restrictive policy.\n",
    "Equity markets experienced a downturn, with the S&P 500 declining 1.2% as growth stocks faced valuation\n",
    "adjustments.\n",
    "\n",
    "'''"
   ]
  },
  {
   "cell_type": "code",
   "execution_count": 3,
   "id": "71245e97-7208-4f0d-94b2-ddada3a2f4ab",
   "metadata": {},
   "outputs": [],
   "source": [
    "example2 = '''\n",
    "\"Sartre’s notion of radical freedom, as articulated in Being and Nothingness, posits that existence\n",
    "precedes essence, rejecting any predetermined human nature. This existentialist framework implies that\n",
    "individuals bear absolute responsibility for their choices, a premise that leads to what Sartre describes\n",
    "as 'anguish'—the weight of freedom in an indifferent universe. Similarly, Heidegger’s concept of Dasein\n",
    "emphasizes being-toward-death, underscoring how authentic existence emerges only through an awareness of\n",
    "finitude. In contrast, Camus’ Myth of Sisyphus rejects metaphysical meaning, framing human life as an absurd\n",
    "confrontation between the search for meaning and an indifferent cosmos, where rebellion against nihilism \n",
    "becomes the ultimate assertion of freedom.\"\n",
    "\n",
    "'''"
   ]
  },
  {
   "cell_type": "markdown",
   "id": "b953bf56-a82e-4a56-b6d4-950d3b124d15",
   "metadata": {},
   "source": [
    "### Preprocessing\n",
    "* Would be a good idea to break your free form text into chunck (i.e. sentences)\n",
    "* I used regex here, but consider using an NLP library like NLTK or Spacy (chunk, clean up, etc)\n",
    "* Put it in a format that will work with your fine tuning pipeline (I put in list of dicts here, which works with hugging face training pepeline)"
   ]
  },
  {
   "cell_type": "code",
   "execution_count": 4,
   "id": "1212bd24-9f9a-4272-a8dc-c1f1f86ca90a",
   "metadata": {},
   "outputs": [
    {
     "data": {
      "text/plain": [
       "{'text': 'Equity markets experienced a downturn, with the S&P 500 declining 1.2% as growth stocks faced valuation\\nadjustments.'}"
      ]
     },
     "execution_count": 4,
     "metadata": {},
     "output_type": "execute_result"
    }
   ],
   "source": [
    "# Regex to split text into sentences\n",
    "sentences = re.split(r'(?<=[.!?])\\s+', example1.strip())\n",
    "\n",
    "# Convert to requested format\n",
    "financial_data = [{\"text\": sentence} for sentence in sentences]\n",
    "financial_data[1]"
   ]
  },
  {
   "cell_type": "code",
   "execution_count": null,
   "id": "6e899d72-b7c6-421f-8ae2-02c655e29235",
   "metadata": {},
   "outputs": [],
   "source": []
  },
  {
   "cell_type": "markdown",
   "id": "43fb038c-5e37-43cc-bcc6-35376ff00170",
   "metadata": {
    "jp-MarkdownHeadingCollapsed": true
   },
   "source": [
    "### **Some Domain-Specific Datasets (not tested)**\n",
    "\n",
    "### **1. Finance**\n",
    "- **Dataset**: [SEC EDGAR Filings](https://www.sec.gov/edgar.shtml)\n",
    "- **Description**: Public company reports (10-K, 10-Q), regulatory filings, and financial statements.\n",
    "- **Use Case**: Training financial NLP models for understanding earnings reports and financial jargon.\n",
    "\n",
    "### **2. Law**\n",
    "- **Dataset**: [Harvard Case Law Project](https://case.law/)\n",
    "- **Description**: U.S. Supreme Court rulings, legal contracts, and case law.\n",
    "- **Use Case**: Legal document processing, contract analysis, and legal text summarization.\n",
    "\n",
    "### **3. Healthcare & Medical**\n",
    "- **Dataset**: [PubMed Open Access](https://pubmed.ncbi.nlm.nih.gov/)\n",
    "- **Description**: Biomedical research papers, clinical trial results, and medical abstracts.\n",
    "- **Use Case**: Training models for medical literature comprehension, biomedical NLP, and clinical text processing.\n",
    "\n",
    "### **4. Cybersecurity**\n",
    "- **Dataset**: [MITRE CVE Database](https://cve.mitre.org/)\n",
    "- **Description**: Collection of known cybersecurity vulnerabilities and exploits.\n",
    "- **Use Case**: Threat intelligence NLP, cybersecurity risk analysis, and automated vulnerability tracking.\n",
    "\n",
    "### **5. Science & Research**\n",
    "- **Dataset**: [ArXiv Open Access](https://arxiv.org/)\n",
    "- **Description**: AI, physics, mathematics, and computational research papers.\n",
    "- **Use Case**: Scientific paper summarization, technical NLP applications, and AI research modeling.\n",
    "\n",
    "### **6. News & Journalism**\n",
    "- **Dataset**: [CNN/DailyMail Dataset](https://huggingface.co/datasets/cnn_dailymail)\n",
    "- **Description**: News articles with human-written summaries.\n",
    "- **Use Case**: Training NLP models for news summarization and information retrieval.\n",
    "\n",
    "### **7. Business & Economy**\n",
    "- **Dataset**: [S&P 500 Earnings Call Transcripts](https://seekingalpha.com/)\n",
    "- **Description**: CEO, CFO, and analyst discussions on financial markets and economic trends.\n",
    "- **Use Case**: Sentiment analysis, financial trend prediction, and business NLP applications.\n",
    "\n",
    "### **8. Technology & Code**\n",
    "- **Dataset**: [GitHub Code Corpus](https://github.com/EGI-Federation/ai-code-analysis)\n",
    "- **Description**: Open-source repositories, code comments, and discussions.\n",
    "- **Use Case**: Training code-aware BERT models, AI-powered coding assistants, and bug detection.\n",
    "\n",
    "### **9. Social Media & Sentiment Analysis**\n",
    "- **Dataset**: [PushShift Reddit Dataset](https://files.pushshift.io/reddit/)\n",
    "- **Description**: Large-scale Reddit comments and discussions across various topics.\n",
    "- **Use Case**: Conversational AI, chatbot training, and sentiment analysis on social media.\n",
    "\n",
    "### **10. Legal & Government Regulations**\n",
    "- **Dataset**: [EUR-Lex](https://eur-lex.europa.eu/)\n",
    "- **Description**: European Union legal documents, regulations, and legislative texts.\n",
    "- **Use Case**: Law-focused BERT training, policy document analysis, and regulatory compliance automation."
   ]
  }
 ],
 "metadata": {
  "kernelspec": {
   "display_name": "Python 3 (ipykernel)",
   "language": "python",
   "name": "python3"
  },
  "language_info": {
   "codemirror_mode": {
    "name": "ipython",
    "version": 3
   },
   "file_extension": ".py",
   "mimetype": "text/x-python",
   "name": "python",
   "nbconvert_exporter": "python",
   "pygments_lexer": "ipython3",
   "version": "3.12.5"
  }
 },
 "nbformat": 4,
 "nbformat_minor": 5
}
